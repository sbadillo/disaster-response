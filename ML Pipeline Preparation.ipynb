{
 "cells": [
  {
   "cell_type": "markdown",
   "metadata": {},
   "source": [
    "# ML Pipeline Preparation\n",
    "Follow the instructions below to help you create your ML pipeline.\n",
    "### 1. Import libraries and load data from database.\n",
    "- Import Python libraries\n",
    "- Load dataset from database with [`read_sql_table`](https://pandas.pydata.org/pandas-docs/stable/generated/pandas.read_sql_table.html)\n",
    "- Define feature and target variables X and Y"
   ]
  },
  {
   "cell_type": "code",
   "execution_count": 1,
   "metadata": {},
   "outputs": [
    {
     "name": "stderr",
     "output_type": "stream",
     "text": [
      "'ls' n'est pas reconnu en tant que commande interne\n",
      "ou externe, un programme ex‚cutable ou un fichier de commandes.\n"
     ]
    }
   ],
   "source": [
    "!ls"
   ]
  },
  {
   "cell_type": "code",
   "execution_count": 2,
   "metadata": {},
   "outputs": [
    {
     "name": "stdout",
     "output_type": "stream",
     "text": [
      "0.23.1\n"
     ]
    }
   ],
   "source": [
    "import sklearn\n",
    "\n",
    "if float(sklearn.__version__[:4]) < 0.20 : \n",
    "    print(\"PLEASE RESTART NOTEBOOK AFTER THIS INSTALLATION\")\n",
    "    !pip install scikit_learn -U\n",
    "    \n",
    "\n",
    "import sklearn\n",
    "print(sklearn.__version__)"
   ]
  },
  {
   "cell_type": "code",
   "execution_count": 3,
   "metadata": {},
   "outputs": [
    {
     "name": "stderr",
     "output_type": "stream",
     "text": [
      "[nltk_data] Downloading package words to\n",
      "[nltk_data]     C:\\Users\\CR5820\\AppData\\Roaming\\nltk_data...\n",
      "[nltk_data]   Unzipping corpora\\words.zip.\n",
      "[nltk_data] Downloading package punkt to\n",
      "[nltk_data]     C:\\Users\\CR5820\\AppData\\Roaming\\nltk_data...\n",
      "[nltk_data]   Package punkt is already up-to-date!\n",
      "[nltk_data] Downloading package wordnet to\n",
      "[nltk_data]     C:\\Users\\CR5820\\AppData\\Roaming\\nltk_data...\n",
      "[nltk_data]   Package wordnet is already up-to-date!\n",
      "[nltk_data] Downloading package stopwords to\n",
      "[nltk_data]     C:\\Users\\CR5820\\AppData\\Roaming\\nltk_data...\n",
      "[nltk_data]   Package stopwords is already up-to-date!\n",
      "[nltk_data] Downloading package averaged_perceptron_tagger to\n",
      "[nltk_data]     C:\\Users\\CR5820\\AppData\\Roaming\\nltk_data...\n",
      "[nltk_data]   Package averaged_perceptron_tagger is already up-to-\n",
      "[nltk_data]       date!\n"
     ]
    },
    {
     "data": {
      "text/plain": [
       "True"
      ]
     },
     "execution_count": 3,
     "metadata": {},
     "output_type": "execute_result"
    }
   ],
   "source": [
    "# import libraries\n",
    "\n",
    "import pandas as pd\n",
    "import numpy as np\n",
    "import nltk\n",
    "import matplotlib.pyplot as plt\n",
    "import seaborn as sns\n",
    "import re\n",
    "import pprint\n",
    "\n",
    "from tqdm import tqdm\n",
    "\n",
    "from sklearn.model_selection import train_test_split\n",
    "from sklearn.ensemble import RandomForestClassifier\n",
    "from sklearn.multioutput import MultiOutputClassifier\n",
    "from sklearn.feature_extraction.text import CountVectorizer, TfidfTransformer, TfidfVectorizer\n",
    "from sklearn.pipeline import Pipeline, FeatureUnion\n",
    "from sklearn.metrics import classification_report, f1_score, recall_score, precision_score, confusion_matrix, accuracy_score\n",
    "from sklearn.base import BaseEstimator, TransformerMixin\n",
    "\n",
    "try:\n",
    "    from sklearn.model_selection import GridSearchCV\n",
    "except : \n",
    "    print(\"old version sklearn detected..\")\n",
    "    from sklearn.grid_search import GridSearchCV\n",
    "\n",
    "\n",
    "from sqlalchemy import create_engine\n",
    "\n",
    "from nltk import word_tokenize\n",
    "from nltk import sent_tokenize\n",
    "from nltk.tag import pos_tag\n",
    "from nltk.stem import WordNetLemmatizer, PorterStemmer, LancasterStemmer\n",
    "from nltk.corpus import stopwords\n",
    "\n",
    "nltk.download('words')\n",
    "nltk.download('punkt')\n",
    "nltk.download('wordnet')\n",
    "nltk.download('stopwords')\n",
    "nltk.download('averaged_perceptron_tagger')"
   ]
  },
  {
   "cell_type": "code",
   "execution_count": 4,
   "metadata": {},
   "outputs": [
    {
     "data": {
      "text/plain": [
       "0    Weather update - a cold front from Cuba that c...\n",
       "1              Is the Hurricane over or is it not over\n",
       "2                      Looking for someone but no name\n",
       "3    UN reports Leogane 80-90 destroyed. Only Hospi...\n",
       "4    says: west side of Haiti, rest of the country ...\n",
       "Name: message, dtype: object"
      ]
     },
     "execution_count": 4,
     "metadata": {},
     "output_type": "execute_result"
    }
   ],
   "source": [
    "# load data from database\n",
    "engine = create_engine('sqlite:///InsertDatabaseName.db')\n",
    "\n",
    "df = pd.read_sql_table(table_name=\"InsertTableName\", con=engine)\n",
    "\n",
    "X = df[\"message\"]\n",
    "y = df.drop(columns=[\"id\", \"message\", \"original\", \"genre\"], axis=1)\n",
    "\n",
    "# drop the one category without any occurrences\n",
    "y.drop(columns=[\"child_alone\"], inplace = True)\n",
    "\n",
    "X.head()"
   ]
  },
  {
   "cell_type": "markdown",
   "metadata": {},
   "source": [
    "### 2. Write a tokenization function to process your text data"
   ]
  },
  {
   "cell_type": "code",
   "execution_count": 5,
   "metadata": {},
   "outputs": [],
   "source": [
    "def tokenize(text):\n",
    "\n",
    "    # normalize case and remove punctuation\n",
    "    text = re.sub(r\"[^a-zA-Z0-9]\", \" \", text.lower())\n",
    "    \n",
    "    # replace all urls with a placeholder text\n",
    "    url_regex = 'http[s]?://(?:[a-zA-Z]|[0-9]|[$-_@.&+]|[!*\\(\\),]|(?:%[0-9a-fA-F][0-9a-fA-F]))+'\n",
    "    text = re.sub(url_regex, \"urlplaceholder\", text)\n",
    "    \n",
    "    # remove numbers\n",
    "    text = re.sub(\"^\\d+\\s|\\s\\d+\\s|\\s\\d+$\", \" \", text)\n",
    "   \n",
    "    stop_words = stopwords.words(\"english\")\n",
    "\n",
    "    tokens = word_tokenize(text)\n",
    "    lemmatizer = WordNetLemmatizer()\n",
    "    \n",
    "    # lemmatize and remove stop words\n",
    "    clean_tokens = []\n",
    "    for tok in tokens:\n",
    "        if tok not in stop_words :\n",
    "            clean_tok = lemmatizer.lemmatize(tok).strip() \n",
    "            clean_tokens.append(clean_tok)\n",
    "    \n",
    "    return clean_tokens    "
   ]
  },
  {
   "cell_type": "code",
   "execution_count": 6,
   "metadata": {},
   "outputs": [],
   "source": [
    "# df = X.to_frame()\n",
    "# df[\"len\"] = df[\"message\"].str.len()\n",
    "\n",
    "# df.dropna(inplace=True)\n",
    "\n",
    "# df.head()"
   ]
  },
  {
   "cell_type": "code",
   "execution_count": 7,
   "metadata": {},
   "outputs": [],
   "source": [
    "# df.describe()"
   ]
  },
  {
   "cell_type": "code",
   "execution_count": 8,
   "metadata": {},
   "outputs": [],
   "source": [
    "# sns.distplot(df[\"len\"], bins=1000)\n",
    "\n",
    "# plt.xlim(0,1000)\n",
    "\n",
    "# df.shape"
   ]
  },
  {
   "cell_type": "code",
   "execution_count": 9,
   "metadata": {},
   "outputs": [],
   "source": [
    "import string\n",
    "\n",
    "\n",
    "\n",
    "def clean_text(text) :\n",
    "    \n",
    "    text = text.replace(\"\\n\", \" \").replace(\"\\r\", \" \")\n",
    "    \n",
    "    # replace punctuation with spaces\n",
    "    t = str.maketrans(' ', ' ', string.punctuation)\n",
    "    text = text.translate(t)\n",
    "    \n",
    "    # replace single auote with empty char\n",
    "    t = str.maketrans(dict.fromkeys(\"'`\", \"\"))\n",
    "    text = text.translate(t)\n",
    "    \n",
    "    # replace all urls with a placeholder text\n",
    "    url_regex = 'http[s]?://(?:[a-zA-Z]|[0-9]|[$-_@.&+]|[!*\\(\\),]|(?:%[0-9a-fA-F][0-9a-fA-F]))+'\n",
    "    text = re.sub(url_regex, \"urlplaceholder\", text)\n",
    "    \n",
    "    return text\n",
    "\n",
    "\n",
    "def reg_tokenize(text):     \n",
    "    \n",
    "    text = clean_text(text)\n",
    "\n",
    "    # break into list of words\n",
    "    WORD = re.compile(r'\\w+')    \n",
    "    words = WORD.findall(text)\n",
    "    \n",
    "    #pass through lemmatizer or stemmer\n",
    "    stop_words = stopwords.words(\"english\")\n",
    "\n",
    "    lemmatizer = WordNetLemmatizer()\n",
    "    porter = PorterStemmer()\n",
    "    lancaster = LancasterStemmer()\n",
    "    clean_tokens = []\n",
    "    for tok in words :\n",
    "        if tok not in stop_words :\n",
    "#             clean_tok = lemmatizer.lemmatize(tok)\n",
    "#             clean_tok = porter.stem(tok)\n",
    "            clean_tok = lancaster.stem(tok)\n",
    "            clean_tokens.append(clean_tok)\n",
    "    \n",
    "    return clean_tokens"
   ]
  },
  {
   "cell_type": "code",
   "execution_count": 10,
   "metadata": {},
   "outputs": [
    {
     "name": "stdout",
     "output_type": "stream",
     "text": [
      "num messages =  10 , time = 1.162\n",
      "num messages =  100 , time = 0.043\n",
      "num messages =  1000 , time = 0.488\n",
      "num messages =  10000 , time = 4.597\n",
      "81900\n",
      "unique 9133\n"
     ]
    }
   ],
   "source": [
    "#benchmarking tokenizer\n",
    "import time\n",
    "\n",
    "messages = list(X)\n",
    "\n",
    "for num_messages in [10, 100, 1000, 10000]:\n",
    "    \n",
    "    t1 = time.time()\n",
    "    \n",
    "    toks = []\n",
    "    [toks.append(tokenize(n)) for n in messages[:num_messages]]\n",
    "    \n",
    "    t2 = time.time()\n",
    "    \n",
    "    print('num messages = ', num_messages, \", time = %.3f\"%(t2-t1))\n",
    "    \n",
    "\n",
    "all_toks = [item for sublist in toks for item in sublist] \n",
    "print(len(all_toks))\n",
    "print(\"unique\", len(set(all_toks)))"
   ]
  },
  {
   "cell_type": "code",
   "execution_count": 11,
   "metadata": {},
   "outputs": [
    {
     "name": "stdout",
     "output_type": "stream",
     "text": [
      "num messages =  10 , time = 0.010\n",
      "num messages =  100 , time = 0.073\n",
      "num messages =  1000 , time = 0.620\n",
      "num messages =  10000 , time = 5.268\n",
      "98276\n",
      "unique 8195\n"
     ]
    }
   ],
   "source": [
    "#benchmarking reg_tokenize\n",
    "import time\n",
    "\n",
    "messages = list(X)\n",
    "\n",
    "for num_messages in [10, 100, 1000, 10000]:\n",
    "    \n",
    "    t1 = time.time()\n",
    "    \n",
    "    toks = []\n",
    "    [toks.append(reg_tokenize(n)) for n in messages[:num_messages]]\n",
    "    \n",
    "    t2 = time.time()\n",
    "    print('num messages = ', num_messages, \", time = %.3f\"%(t2-t1))\n",
    "    \n",
    "all_toks = [item for sublist in toks for item in sublist]\n",
    "\n",
    "print(len(all_toks))\n",
    "print(\"unique\", len(set(all_toks)))"
   ]
  },
  {
   "cell_type": "markdown",
   "metadata": {},
   "source": [
    "### 3. Build a machine learning pipeline\n",
    "This machine pipeline should take in the `message` column as input and output classification results on the other 36 categories in the dataset. You may find the [MultiOutputClassifier](http://scikit-learn.org/stable/modules/generated/sklearn.multioutput.MultiOutputClassifier.html) helpful for predicting multiple target variables."
   ]
  },
  {
   "cell_type": "code",
   "execution_count": 12,
   "metadata": {},
   "outputs": [],
   "source": [
    "# need to add the filtering of the \"message\" column only here I guess ...\n",
    "\n",
    "# pipe = Pipeline([\n",
    "#     ('features', FeatureUnion([\n",
    "#         ('text_pipeline', Pipeline([\n",
    "#             ('col', ColumnSelector(col=\"message\")),\n",
    "#             ('vect', CountVectorizer(tokenizer=tokenize)),\n",
    "#             ('tdidf', TfidfTransformer()),\n",
    "#         ])),\n",
    "# #         ('starting_verb', StartingVerbExtractor())\n",
    "#     ])),\n",
    "#     ('clf', MultiOutputClassifier(RandomForestClassifier()))\n",
    "# ])\n",
    "\n",
    "pipe = Pipeline([\n",
    "#     ('vect', CountVectorizer(tokenizer=tokenize)),\n",
    "#     ('vect', CountVectorizer(tokenizer=reg_tokenize)),\n",
    "    ('vect_tdidf', TfidfVectorizer(tokenizer=reg_tokenize)),\n",
    "#     ('tdidf', TfidfTransformer()),\n",
    "    ('clf', MultiOutputClassifier(RandomForestClassifier(n_estimators=10, n_jobs=-1, verbose=0)))\n",
    "])"
   ]
  },
  {
   "cell_type": "markdown",
   "metadata": {},
   "source": [
    "### 4. Train pipeline\n",
    "- Split data into train and test sets\n",
    "- Train pipeline"
   ]
  },
  {
   "cell_type": "code",
   "execution_count": 13,
   "metadata": {},
   "outputs": [],
   "source": [
    "# split and fit data\n",
    "X_train, X_test, y_train, y_test = train_test_split(X, y)"
   ]
  },
  {
   "cell_type": "code",
   "execution_count": 14,
   "metadata": {},
   "outputs": [
    {
     "name": "stdout",
     "output_type": "stream",
     "text": [
      "Wall time: 32.1 s\n"
     ]
    },
    {
     "data": {
      "text/plain": [
       "Pipeline(steps=[('vect_tdidf',\n",
       "                 TfidfVectorizer(tokenizer=<function reg_tokenize at 0x000001E82F1678B0>)),\n",
       "                ('clf',\n",
       "                 MultiOutputClassifier(estimator=RandomForestClassifier(n_estimators=10,\n",
       "                                                                        n_jobs=-1)))])"
      ]
     },
     "execution_count": 14,
     "metadata": {},
     "output_type": "execute_result"
    }
   ],
   "source": [
    "%%time\n",
    "pipe.fit(X_train, y_train)"
   ]
  },
  {
   "cell_type": "markdown",
   "metadata": {},
   "source": [
    "### 5. Test your model\n",
    "Report the f1 score, precision and recall for each output category of the dataset. You can do this by iterating through the columns and calling sklearn's `classification_report` on each."
   ]
  },
  {
   "cell_type": "code",
   "execution_count": 16,
   "metadata": {},
   "outputs": [],
   "source": [
    "# predict on test data\n",
    "def evaluate(model, X_test, y_test):\n",
    "    \"\"\"Predicts and prints scores of model.\n",
    "    \"\"\"\n",
    "    \n",
    "    cols = y_test.columns\n",
    "    y_pred = model.predict(X_test)\n",
    "    \n",
    "    print('Accuracy = %.3f' % accuracy_score(y_test, y_pred))\n",
    "\n",
    "    \n",
    "    report = classification_report(y_test, y_pred, target_names=cols,)\n",
    "    print(report)\n",
    "    \n",
    "    if float(sklearn.__version__[:4]) >= 0.20 :\n",
    "        \n",
    "        output_dict = classification_report(y_test, y_pred, target_names=cols, output_dict=True)\n",
    "        df = pd.DataFrame.from_dict(output_dict, orient=\"index\")\n",
    "        \n",
    "        # plot        \n",
    "        plt.figure(figsize=(6,10))\n",
    "        sns.barplot(df[\"f1-score\"].sort_values(), df[\"f1-score\"].sort_values().index)\n",
    "        \n",
    "        return df\n",
    "    \n",
    "    else :\n",
    "        \n",
    "        print(\"sklearn version is old.\")\n",
    "        output = pd.Series()\n",
    "        \n",
    "        for i, c in enumerate(cols) : \n",
    "            score = f1_score(y_test[c], y_pred.transpose()[i]) \n",
    "            output[c] = score\n",
    "        return output"
   ]
  },
  {
   "cell_type": "code",
   "execution_count": 17,
   "metadata": {},
   "outputs": [
    {
     "name": "stdout",
     "output_type": "stream",
     "text": [
      "Accuracy = 0.254\n",
      "                        precision    recall  f1-score   support\n",
      "\n",
      "               related       0.84      0.92      0.88      4970\n",
      "               request       0.79      0.43      0.55      1135\n",
      "                 offer       0.00      0.00      0.00        23\n",
      "           aid_related       0.72      0.60      0.65      2650\n",
      "          medical_help       0.71      0.10      0.18       522\n",
      "      medical_products       0.78      0.09      0.15       341\n",
      "     search_and_rescue       0.73      0.06      0.11       186\n",
      "              security       0.33      0.01      0.02       105\n",
      "              military       0.58      0.09      0.16       210\n",
      "                 water       0.79      0.25      0.38       387\n",
      "                  food       0.80      0.49      0.61       698\n",
      "               shelter       0.83      0.31      0.45       580\n",
      "              clothing       0.62      0.05      0.09        99\n",
      "                 money       0.67      0.03      0.06       134\n",
      "        missing_people       0.00      0.00      0.00        88\n",
      "              refugees       0.29      0.01      0.02       209\n",
      "                 death       0.79      0.08      0.15       315\n",
      "             other_aid       0.42      0.03      0.06       851\n",
      "infrastructure_related       0.30      0.01      0.01       427\n",
      "             transport       0.62      0.10      0.18       281\n",
      "             buildings       0.67      0.15      0.25       342\n",
      "           electricity       0.86      0.05      0.09       131\n",
      "                 tools       0.00      0.00      0.00        41\n",
      "             hospitals       0.00      0.00      0.00        67\n",
      "                 shops       0.00      0.00      0.00        32\n",
      "           aid_centers       1.00      0.01      0.03        71\n",
      "  other_infrastructure       0.00      0.00      0.00       292\n",
      "       weather_related       0.83      0.62      0.71      1746\n",
      "                floods       0.84      0.38      0.52       512\n",
      "                 storm       0.76      0.44      0.56       553\n",
      "                  fire       0.00      0.00      0.00        62\n",
      "            earthquake       0.89      0.65      0.75       625\n",
      "                  cold       0.50      0.02      0.04       130\n",
      "         other_weather       0.38      0.03      0.06       324\n",
      "         direct_report       0.72      0.34      0.46      1242\n",
      "\n",
      "             micro avg       0.80      0.49      0.60     20381\n",
      "             macro avg       0.54      0.18      0.23     20381\n",
      "          weighted avg       0.72      0.49      0.54     20381\n",
      "           samples avg       0.64      0.45      0.48     20381\n",
      "\n"
     ]
    },
    {
     "name": "stderr",
     "output_type": "stream",
     "text": [
      "C:\\Users\\CR5820\\Anaconda3\\lib\\site-packages\\sklearn\\metrics\\_classification.py:1221: UndefinedMetricWarning: Precision and F-score are ill-defined and being set to 0.0 in labels with no predicted samples. Use `zero_division` parameter to control this behavior.\n",
      "  _warn_prf(average, modifier, msg_start, len(result))\n",
      "C:\\Users\\CR5820\\Anaconda3\\lib\\site-packages\\sklearn\\metrics\\_classification.py:1221: UndefinedMetricWarning: Precision and F-score are ill-defined and being set to 0.0 in samples with no predicted labels. Use `zero_division` parameter to control this behavior.\n",
      "  _warn_prf(average, modifier, msg_start, len(result))\n",
      "C:\\Users\\CR5820\\Anaconda3\\lib\\site-packages\\sklearn\\metrics\\_classification.py:1221: UndefinedMetricWarning: Recall and F-score are ill-defined and being set to 0.0 in samples with no true labels. Use `zero_division` parameter to control this behavior.\n",
      "  _warn_prf(average, modifier, msg_start, len(result))\n",
      "C:\\Users\\CR5820\\Anaconda3\\lib\\site-packages\\seaborn\\_decorators.py:36: FutureWarning: Pass the following variables as keyword args: x, y. From version 0.12, the only valid positional argument will be `data`, and passing other arguments without an explicit keyword will result in an error or misinterpretation.\n",
      "  warnings.warn(\n"
     ]
    },
    {
     "data": {
      "image/png": "[encoded data removed]",
      "text/plain": [
       "<Figure size 432x720 with 1 Axes>"
      ]
     },
     "metadata": {
      "needs_background": "light"
     },
     "output_type": "display_data"
    }
   ],
   "source": [
    "score_df = evaluate(pipe, X_test, y_test)"
   ]
  },
  {
   "cell_type": "markdown",
   "metadata": {},
   "source": [
    "### 6. Improve your model\n",
    "Use grid search to find better parameters. "
   ]
  },
  {
   "cell_type": "code",
   "execution_count": 18,
   "metadata": {
    "collapsed": true,
    "jupyter": {
     "outputs_hidden": true
    }
   },
   "outputs": [
    {
     "name": "stdout",
     "output_type": "stream",
     "text": [
      "{ 'clf': MultiOutputClassifier(estimator=RandomForestClassifier(n_estimators=10,\n",
      "                                                       n_jobs=-1)),\n",
      "  'clf__estimator': RandomForestClassifier(n_estimators=10, n_jobs=-1),\n",
      "  'clf__estimator__bootstrap': True,\n",
      "  'clf__estimator__ccp_alpha': 0.0,\n",
      "  'clf__estimator__class_weight': None,\n",
      "  'clf__estimator__criterion': 'gini',\n",
      "  'clf__estimator__max_depth': None,\n",
      "  'clf__estimator__max_features': 'auto',\n",
      "  'clf__estimator__max_leaf_nodes': None,\n",
      "  'clf__estimator__max_samples': None,\n",
      "  'clf__estimator__min_impurity_decrease': 0.0,\n",
      "  'clf__estimator__min_impurity_split': None,\n",
      "  'clf__estimator__min_samples_leaf': 1,\n",
      "  'clf__estimator__min_samples_split': 2,\n",
      "  'clf__estimator__min_weight_fraction_leaf': 0.0,\n",
      "  'clf__estimator__n_estimators': 10,\n",
      "  'clf__estimator__n_jobs': -1,\n",
      "  'clf__estimator__oob_score': False,\n",
      "  'clf__estimator__random_state': None,\n",
      "  'clf__estimator__verbose': 0,\n",
      "  'clf__estimator__warm_start': False,\n",
      "  'clf__n_jobs': None,\n",
      "  'memory': None,\n",
      "  'steps': [ ( 'vect_tdidf',\n",
      "               TfidfVectorizer(tokenizer=<function reg_tokenize at 0x000001E82F1678B0>)),\n",
      "             ( 'clf',\n",
      "               MultiOutputClassifier(estimator=RandomForestClassifier(n_estimators=10,\n",
      "                                                       n_jobs=-1)))],\n",
      "  'vect_tdidf': TfidfVectorizer(tokenizer=<function reg_tokenize at 0x000001E82F1678B0>),\n",
      "  'vect_tdidf__analyzer': 'word',\n",
      "  'vect_tdidf__binary': False,\n",
      "  'vect_tdidf__decode_error': 'strict',\n",
      "  'vect_tdidf__dtype': <class 'numpy.float64'>,\n",
      "  'vect_tdidf__encoding': 'utf-8',\n",
      "  'vect_tdidf__input': 'content',\n",
      "  'vect_tdidf__lowercase': True,\n",
      "  'vect_tdidf__max_df': 1.0,\n",
      "  'vect_tdidf__max_features': None,\n",
      "  'vect_tdidf__min_df': 1,\n",
      "  'vect_tdidf__ngram_range': (1, 1),\n",
      "  'vect_tdidf__norm': 'l2',\n",
      "  'vect_tdidf__preprocessor': None,\n",
      "  'vect_tdidf__smooth_idf': True,\n",
      "  'vect_tdidf__stop_words': None,\n",
      "  'vect_tdidf__strip_accents': None,\n",
      "  'vect_tdidf__sublinear_tf': False,\n",
      "  'vect_tdidf__token_pattern': '(?u)\\\\b\\\\w\\\\w+\\\\b',\n",
      "  'vect_tdidf__tokenizer': <function reg_tokenize at 0x000001E82F1678B0>,\n",
      "  'vect_tdidf__use_idf': True,\n",
      "  'vect_tdidf__vocabulary': None,\n",
      "  'verbose': False}\n"
     ]
    }
   ],
   "source": [
    "pprint.pprint(pipe.get_params(), indent=2)"
   ]
  },
  {
   "cell_type": "code",
   "execution_count": 38,
   "metadata": {
    "scrolled": true
   },
   "outputs": [
    {
     "name": "stdout",
     "output_type": "stream",
     "text": [
      "Fitting 3 folds for each of 4 candidates, totalling 12 fits\n",
      "[Parallel(n_jobs=1)]: Using backend SequentialBackend with 1 concurrent workers.\n",
      "[CV] clf__estimator__n_estimators=10 .................................\n",
      "[CV] ..... clf__estimator__n_estimators=10, score=0.244, total=  34.9s\n",
      "[Parallel(n_jobs=1)]: Done   1 out of   1 | elapsed:   34.8s remaining:    0.0s\n",
      "[CV] clf__estimator__n_estimators=10 .................................\n",
      "[CV] ..... clf__estimator__n_estimators=10, score=0.240, total=  24.0s\n",
      "[Parallel(n_jobs=1)]: Done   2 out of   2 | elapsed:   58.8s remaining:    0.0s\n",
      "[CV] clf__estimator__n_estimators=10 .................................\n",
      "[CV] ..... clf__estimator__n_estimators=10, score=0.237, total=  25.7s\n",
      "[Parallel(n_jobs=1)]: Done   3 out of   3 | elapsed:  1.4min remaining:    0.0s\n",
      "[CV] clf__estimator__n_estimators=20 .................................\n",
      "[CV] ..... clf__estimator__n_estimators=20, score=0.256, total=  26.3s\n",
      "[Parallel(n_jobs=1)]: Done   4 out of   4 | elapsed:  1.8min remaining:    0.0s\n",
      "[CV] clf__estimator__n_estimators=20 .................................\n",
      "[CV] ..... clf__estimator__n_estimators=20, score=0.258, total=  28.4s\n",
      "[Parallel(n_jobs=1)]: Done   5 out of   5 | elapsed:  2.3min remaining:    0.0s\n",
      "[CV] clf__estimator__n_estimators=20 .................................\n",
      "[CV] ..... clf__estimator__n_estimators=20, score=0.248, total=  29.6s\n",
      "[Parallel(n_jobs=1)]: Done   6 out of   6 | elapsed:  2.8min remaining:    0.0s\n",
      "[CV] clf__estimator__n_estimators=50 .................................\n",
      "[CV] ..... clf__estimator__n_estimators=50, score=0.267, total=  51.0s\n",
      "[Parallel(n_jobs=1)]: Done   7 out of   7 | elapsed:  3.7min remaining:    0.0s\n",
      "[CV] clf__estimator__n_estimators=50 .................................\n",
      "[CV] ..... clf__estimator__n_estimators=50, score=0.262, total=  46.6s\n",
      "[Parallel(n_jobs=1)]: Done   8 out of   8 | elapsed:  4.4min remaining:    0.0s\n",
      "[CV] clf__estimator__n_estimators=50 .................................\n",
      "[CV] ..... clf__estimator__n_estimators=50, score=0.250, total=  45.3s\n",
      "[Parallel(n_jobs=1)]: Done   9 out of   9 | elapsed:  5.2min remaining:    0.0s\n",
      "[CV] clf__estimator__n_estimators=100 ................................\n",
      "[CV] .... clf__estimator__n_estimators=100, score=0.270, total= 1.3min\n",
      "[Parallel(n_jobs=1)]: Done  10 out of  10 | elapsed:  6.5min remaining:    0.0s\n",
      "[CV] clf__estimator__n_estimators=100 ................................\n",
      "[CV] .... clf__estimator__n_estimators=100, score=0.258, total= 1.2min\n",
      "[Parallel(n_jobs=1)]: Done  11 out of  11 | elapsed:  7.7min remaining:    0.0s\n",
      "[CV] clf__estimator__n_estimators=100 ................................\n",
      "[CV] .... clf__estimator__n_estimators=100, score=0.255, total= 1.2min\n",
      "[Parallel(n_jobs=1)]: Done  12 out of  12 | elapsed:  8.9min remaining:    0.0s\n",
      "[Parallel(n_jobs=1)]: Done  12 out of  12 | elapsed:  8.9min finished\n",
      "Wall time: 10min 58s\n"
     ]
    },
    {
     "data": {
      "text/plain": [
       "GridSearchCV(cv=3,\n",
       "             estimator=Pipeline(steps=[('vect_tdidf',\n",
       "                                        TfidfVectorizer(tokenizer=<function reg_tokenize at 0x000001E82F1678B0>)),\n",
       "                                       ('clf',\n",
       "                                        MultiOutputClassifier(estimator=RandomForestClassifier(n_estimators=10,\n",
       "                                                                                               n_jobs=-1)))]),\n",
       "             param_grid={'clf__estimator__n_estimators': (10, 20, 50, 100)},\n",
       "             verbose=100)"
      ]
     },
     "execution_count": 38,
     "metadata": {},
     "output_type": "execute_result"
    }
   ],
   "source": [
    "%%time\n",
    "\n",
    "parameters = {\n",
    "#     'vect__ngram_range': ((1, 1), (1, 2)),\n",
    "#     'vect__max_df': (0.5, 0.75, 1.0),\n",
    "#     'vect__max_features': (None, 5000, 10000),\n",
    "     \"clf__estimator__n_estimators\" : (10,20,50,100),\n",
    "}\n",
    "\n",
    "# We define 3 cross validation folds.\n",
    "# In principle the more the better, but it takes more time too.\n",
    "\n",
    "cv = GridSearchCV(pipe, param_grid=parameters, verbose=100, cv = 3)\n",
    "\n",
    "cv.fit(X_train, y_train)"
   ]
  },
  {
   "cell_type": "markdown",
   "metadata": {},
   "source": [
    "### 7. Test your model\n",
    "Show the accuracy, precision, and recall of the tuned model.  \n",
    "\n",
    "Since this project focuses on code quality, process, and  pipelines, there is no minimum performance metric needed to pass. However, make sure to fine tune your models for accuracy, precision and recall to make your project stand out - especially for your portfolio!"
   ]
  },
  {
   "cell_type": "code",
   "execution_count": 21,
   "metadata": {},
   "outputs": [
    {
     "data": {
      "text/plain": [
       "{'clf__estimator__n_estimators': 50}"
      ]
     },
     "execution_count": 21,
     "metadata": {},
     "output_type": "execute_result"
    }
   ],
   "source": [
    "cv.best_params_"
   ]
  },
  {
   "cell_type": "code",
   "execution_count": 22,
   "metadata": {
    "collapsed": true,
    "jupyter": {
     "outputs_hidden": true
    }
   },
   "outputs": [
    {
     "name": "stdout",
     "output_type": "stream",
     "text": [
      "Accuracy = 0.272\n",
      "                        precision    recall  f1-score   support\n",
      "\n",
      "               related       0.83      0.94      0.89      4970\n",
      "               request       0.83      0.48      0.60      1135\n",
      "                 offer       0.00      0.00      0.00        23\n",
      "           aid_related       0.75      0.69      0.72      2650\n",
      "          medical_help       0.75      0.10      0.17       522\n",
      "      medical_products       0.77      0.06      0.11       341\n",
      "     search_and_rescue       0.75      0.05      0.09       186\n",
      "              security       0.40      0.02      0.04       105\n",
      "              military       0.69      0.05      0.10       210\n",
      "                 water       0.85      0.43      0.57       387\n",
      "                  food       0.84      0.59      0.69       698\n",
      "               shelter       0.82      0.37      0.50       580\n",
      "              clothing       0.80      0.12      0.21        99\n",
      "                 money       1.00      0.01      0.03       134\n",
      "        missing_people       0.00      0.00      0.00        88\n",
      "              refugees       0.46      0.03      0.05       209\n",
      "                 death       0.80      0.16      0.26       315\n",
      "             other_aid       0.54      0.03      0.06       851\n",
      "infrastructure_related       0.40      0.00      0.01       427\n",
      "             transport       0.67      0.06      0.12       281\n",
      "             buildings       0.71      0.16      0.27       342\n",
      "           electricity       1.00      0.03      0.06       131\n",
      "                 tools       0.00      0.00      0.00        41\n",
      "             hospitals       0.00      0.00      0.00        67\n",
      "                 shops       0.00      0.00      0.00        32\n",
      "           aid_centers       0.00      0.00      0.00        71\n",
      "  other_infrastructure       0.00      0.00      0.00       292\n",
      "       weather_related       0.84      0.68      0.75      1746\n",
      "                floods       0.89      0.45      0.60       512\n",
      "                 storm       0.75      0.53      0.62       553\n",
      "                  fire       1.00      0.02      0.03        62\n",
      "            earthquake       0.91      0.74      0.81       625\n",
      "                  cold       1.00      0.08      0.16       130\n",
      "         other_weather       0.73      0.02      0.05       324\n",
      "         direct_report       0.78      0.38      0.51      1242\n",
      "\n",
      "             micro avg       0.81      0.53      0.64     20381\n",
      "             macro avg       0.62      0.21      0.26     20381\n",
      "          weighted avg       0.76      0.53      0.57     20381\n",
      "           samples avg       0.65      0.48      0.50     20381\n",
      "\n"
     ]
    },
    {
     "name": "stderr",
     "output_type": "stream",
     "text": [
      "C:\\Users\\CR5820\\Anaconda3\\lib\\site-packages\\sklearn\\metrics\\_classification.py:1221: UndefinedMetricWarning: Precision and F-score are ill-defined and being set to 0.0 in labels with no predicted samples. Use `zero_division` parameter to control this behavior.\n",
      "  _warn_prf(average, modifier, msg_start, len(result))\n",
      "C:\\Users\\CR5820\\Anaconda3\\lib\\site-packages\\sklearn\\metrics\\_classification.py:1221: UndefinedMetricWarning: Precision and F-score are ill-defined and being set to 0.0 in samples with no predicted labels. Use `zero_division` parameter to control this behavior.\n",
      "  _warn_prf(average, modifier, msg_start, len(result))\n",
      "C:\\Users\\CR5820\\Anaconda3\\lib\\site-packages\\sklearn\\metrics\\_classification.py:1221: UndefinedMetricWarning: Recall and F-score are ill-defined and being set to 0.0 in samples with no true labels. Use `zero_division` parameter to control this behavior.\n",
      "  _warn_prf(average, modifier, msg_start, len(result))\n",
      "C:\\Users\\CR5820\\Anaconda3\\lib\\site-packages\\seaborn\\_decorators.py:36: FutureWarning: Pass the following variables as keyword args: x, y. From version 0.12, the only valid positional argument will be `data`, and passing other arguments without an explicit keyword will result in an error or misinterpretation.\n",
      "  warnings.warn(\n"
     ]
    },
    {
     "data": {
      "image/png": "[encoded data removed]",
      "text/plain": [
       "<Figure size 432x720 with 1 Axes>"
      ]
     },
     "metadata": {
      "needs_background": "light"
     },
     "output_type": "display_data"
    }
   ],
   "source": [
    "score_df = evaluate(cv, X_test, y_test)"
   ]
  },
  {
   "cell_type": "markdown",
   "metadata": {},
   "source": [
    "### 8. Try improving your model further. Here are a few ideas:\n",
    "* try other machine learning algorithms\n",
    "* add other features besides the TF-IDF"
   ]
  },
  {
   "cell_type": "code",
   "execution_count": 23,
   "metadata": {},
   "outputs": [],
   "source": [
    "# !pip install xgboost, \n",
    "# not possible in udacity workspace :("
   ]
  },
  {
   "cell_type": "code",
   "execution_count": 35,
   "metadata": {},
   "outputs": [],
   "source": [
    "from xgboost import XGBClassifier\n",
    "\n",
    "# subsample controls the ratio of the randomly selected training samples before growing the tree.\n",
    "# It ranges between 0 and 1. Higher values tend to cause overfitting. \n",
    "# colsample_bytree denotes the fraction of columns \n",
    "# to be randomly sampled for each tree.\n",
    "# n_estimators controls the number of trees to be constructed\n",
    "# during the classification process. We will optimize that parameter.\n",
    "\n",
    "\n",
    "xgbclf = XGBClassifier(\n",
    "    n_estimators=50, \n",
    "    n_jobs=-1, \n",
    "    random_state=42,\n",
    "    seed=2,\n",
    "    colsample_bytree=0.6,\n",
    "    subsample=0.7,\n",
    "    eval_metric = \"logloss\", \n",
    "    use_label_encoder=False\n",
    ")\n",
    "\n",
    "\n",
    "pipe_xgb = Pipeline([\n",
    "    ('vect_tdidf', TfidfVectorizer(tokenizer=reg_tokenize)),\n",
    "    ('xgbclf', MultiOutputClassifier(xgbclf))\n",
    "])"
   ]
  },
  {
   "cell_type": "code",
   "execution_count": 36,
   "metadata": {},
   "outputs": [
    {
     "data": {
      "text/plain": [
       "Pipeline(steps=[('vect_tdidf',\n",
       "                 TfidfVectorizer(tokenizer=<function reg_tokenize at 0x000001E82F1678B0>)),\n",
       "                ('xgbclf',\n",
       "                 MultiOutputClassifier(estimator=XGBClassifier(base_score=None,\n",
       "                                                               booster=None,\n",
       "                                                               colsample_bylevel=None,\n",
       "                                                               colsample_bynode=None,\n",
       "                                                               colsample_bytree=0.6,\n",
       "                                                               eval_metric='logloss',\n",
       "                                                               gamma=None,\n",
       "                                                               gpu_id=None,\n",
       "                                                               importance_type='gain',\n",
       "                                                               interaction_constraints=None,\n",
       "                                                               learning_rate=None,\n",
       "                                                               max_delta_step=None,\n",
       "                                                               max_depth=None,\n",
       "                                                               min_child_weight=None,\n",
       "                                                               missing=nan,\n",
       "                                                               monotone_constraints=None,\n",
       "                                                               n_estimators=50,\n",
       "                                                               n_jobs=-1,\n",
       "                                                               num_parallel_tree=None,\n",
       "                                                               random_state=42,\n",
       "                                                               reg_alpha=None,\n",
       "                                                               reg_lambda=None,\n",
       "                                                               scale_pos_weight=None,\n",
       "                                                               seed=2,\n",
       "                                                               subsample=0.7,\n",
       "                                                               tree_method=None,\n",
       "                                                               use_label_encoder=False,\n",
       "                                                               validate_parameters=None,\n",
       "                                                               verbosity=None)))])"
      ]
     },
     "execution_count": 36,
     "metadata": {},
     "output_type": "execute_result"
    }
   ],
   "source": [
    "%%time \n",
    "pipe_xgb.fit(X_train, y_train)"
   ]
  },
  {
   "cell_type": "code",
   "execution_count": 37,
   "metadata": {},
   "outputs": [
    {
     "name": "stdout",
     "output_type": "stream",
     "text": [
      "Accuracy = 0.283\n",
      "                        precision    recall  f1-score   support\n",
      "\n",
      "               related       0.81      0.96      0.88      4970\n",
      "               request       0.78      0.54      0.64      1135\n",
      "                 offer       0.00      0.00      0.00        23\n",
      "           aid_related       0.76      0.65      0.70      2650\n",
      "          medical_help       0.64      0.29      0.40       522\n",
      "      medical_products       0.66      0.30      0.41       341\n",
      "     search_and_rescue       0.70      0.21      0.32       186\n",
      "              security       0.46      0.06      0.10       105\n",
      "              military       0.57      0.39      0.46       210\n",
      "                 water       0.76      0.68      0.72       387\n",
      "                  food       0.79      0.76      0.78       698\n",
      "               shelter       0.75      0.58      0.66       580\n",
      "              clothing       0.76      0.47      0.58        99\n",
      "                 money       0.49      0.25      0.33       134\n",
      "        missing_people       0.75      0.14      0.23        88\n",
      "              refugees       0.66      0.26      0.37       209\n",
      "                 death       0.72      0.51      0.60       315\n",
      "             other_aid       0.51      0.15      0.24       851\n",
      "infrastructure_related       0.47      0.08      0.14       427\n",
      "             transport       0.75      0.30      0.43       281\n",
      "             buildings       0.69      0.37      0.48       342\n",
      "           electricity       0.68      0.31      0.43       131\n",
      "                 tools       1.00      0.02      0.05        41\n",
      "             hospitals       0.67      0.15      0.24        67\n",
      "                 shops       0.00      0.00      0.00        32\n",
      "           aid_centers       0.33      0.07      0.12        71\n",
      "  other_infrastructure       0.44      0.05      0.09       292\n",
      "       weather_related       0.85      0.68      0.75      1746\n",
      "                floods       0.86      0.60      0.71       512\n",
      "                 storm       0.72      0.64      0.68       553\n",
      "                  fire       0.50      0.16      0.24        62\n",
      "            earthquake       0.89      0.76      0.82       625\n",
      "                  cold       0.70      0.37      0.48       130\n",
      "         other_weather       0.46      0.13      0.20       324\n",
      "         direct_report       0.72      0.44      0.55      1242\n",
      "\n",
      "             micro avg       0.78      0.61      0.68     20381\n",
      "             macro avg       0.64      0.35      0.42     20381\n",
      "          weighted avg       0.74      0.61      0.64     20381\n",
      "           samples avg       0.65      0.52      0.53     20381\n",
      "\n"
     ]
    },
    {
     "name": "stderr",
     "output_type": "stream",
     "text": [
      "C:\\Users\\CR5820\\Anaconda3\\lib\\site-packages\\sklearn\\metrics\\_classification.py:1221: UndefinedMetricWarning: Precision and F-score are ill-defined and being set to 0.0 in samples with no predicted labels. Use `zero_division` parameter to control this behavior.\n",
      "  _warn_prf(average, modifier, msg_start, len(result))\n",
      "C:\\Users\\CR5820\\Anaconda3\\lib\\site-packages\\sklearn\\metrics\\_classification.py:1221: UndefinedMetricWarning: Recall and F-score are ill-defined and being set to 0.0 in samples with no true labels. Use `zero_division` parameter to control this behavior.\n",
      "  _warn_prf(average, modifier, msg_start, len(result))\n",
      "C:\\Users\\CR5820\\Anaconda3\\lib\\site-packages\\seaborn\\_decorators.py:36: FutureWarning: Pass the following variables as keyword args: x, y. From version 0.12, the only valid positional argument will be `data`, and passing other arguments without an explicit keyword will result in an error or misinterpretation.\n",
      "  warnings.warn(\n"
     ]
    },
    {
     "data": {
      "image/png": "[encoded data removed]",
      "text/plain": [
       "<Figure size 432x720 with 1 Axes>"
      ]
     },
     "metadata": {
      "needs_background": "light"
     },
     "output_type": "display_data"
    }
   ],
   "source": [
    "score_df = evaluate(pipe_xgb, X_test, y_test)"
   ]
  },
  {
   "cell_type": "markdown",
   "metadata": {},
   "source": [
    "### 9. Export your model as a pickle file"
   ]
  },
  {
   "cell_type": "code",
   "execution_count": null,
   "metadata": {},
   "outputs": [],
   "source": [
    "pickle.dump(pipe, open( model_filepath, \"wb\" ))"
   ]
  },
  {
   "cell_type": "markdown",
   "metadata": {},
   "source": [
    "### 10. Use this notebook to complete `train.py`\n",
    "Use the template file attached in the Resources folder to write a script that runs the steps above to create a database and export a model based on a new dataset specified by the user."
   ]
  },
  {
   "cell_type": "code",
   "execution_count": null,
   "metadata": {},
   "outputs": [],
   "source": []
  }
 ],
 "metadata": {
  "kernelspec": {
   "display_name": "Python 3",
   "language": "python",
   "name": "python3"
  },
  "language_info": {
   "codemirror_mode": {
    "name": "ipython",
    "version": 3
   },
   "file_extension": ".py",
   "mimetype": "text/x-python",
   "name": "python",
   "nbconvert_exporter": "python",
   "pygments_lexer": "ipython3",
   "version": "3.8.3"
  }
 },
 "nbformat": 4,
 "nbformat_minor": 4
}
